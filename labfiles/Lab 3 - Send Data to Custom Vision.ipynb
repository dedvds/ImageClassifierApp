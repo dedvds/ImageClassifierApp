{
  "cells": [
    {
      "metadata": {
        "collapsed": true
      },
      "cell_type": "markdown",
      "source": "## Prerequisites\n- Create Custom Vision **single-service** resource in Azure portal\n\n## Resources\n- [Create a Cognitive Services resource using the Azure portal](https://docs.microsoft.com/en-us/azure/cognitive-services/cognitive-services-apis-create-account?tabs=singleservice%2Cwindows)\n- [Quickstart: Create an image classification project with the Custom Vision Python SDK](https://docs.microsoft.com/en-us/azure/cognitive-services/bing-image-search/image-sdk-python-quickstart)\n"
    },
    {
      "metadata": {},
      "cell_type": "markdown",
      "source": "### Install the Custom Vision SDK\nTo install the Custom Vision service SDK for Python, run the following command:"
    },
    {
      "metadata": {
        "trusted": true
      },
      "cell_type": "code",
      "source": "!pip install azure-cognitiveservices-vision-customvision",
      "execution_count": null,
      "outputs": []
    },
    {
      "metadata": {},
      "cell_type": "markdown",
      "source": "### Get the training and prediction keys\nThe project needs a valid set of subscription keys to interact with the service. \n\nYou can obtain these keys and ID from the Azure portal by viewing your Custom Vision Training and Prediction resources and navigating to the Keys tab. After creating the Custom Vision resource in the Azure portal, two resources have been deployed.\n- Go to your Custom Vision resource (this is your training resource) and get the **API endpoint** and **training key**.\n- Go to your Custom Vision resource with \"-Prediction\" appended to it (thisis your prediction resource) and get the **prediction key**.\n- Navigate to the Properties tab of your Prediction resource to get your **prediction resource ID**.\n\nYou can save all these keys in a Notepad file to easily use them later."
    },
    {
      "metadata": {},
      "cell_type": "markdown",
      "source": "### Create the Custom Vision service project"
    },
    {
      "metadata": {
        "trusted": true
      },
      "cell_type": "code",
      "source": "from azure.cognitiveservices.vision.customvision.training import CustomVisionTrainingClient\nfrom azure.cognitiveservices.vision.customvision.training.models import ImageFileCreateEntry\n\nENDPOINT = \"<your API endpoint>\"\n\n# Replace with a valid key\ntraining_key = \"<your training key>\"\nprediction_key = \"<your prediction key>\"\nprediction_resource_id = \"<your prediction resource id>\"\n\npublish_iteration_name = \"classifyModel\"\n\ntrainer = CustomVisionTrainingClient(training_key, endpoint=ENDPOINT)\n\n# Create a new project\nprint (\"Creating project...\")\nproject = trainer.create_project(\"<Name your project>\")",
      "execution_count": null,
      "outputs": []
    },
    {
      "metadata": {},
      "cell_type": "markdown",
      "source": "### Create tags in the project\nCreate classification tags to your project:"
    },
    {
      "metadata": {
        "trusted": true
      },
      "cell_type": "code",
      "source": "# Make two tags in the new project\n<Name-first-tag>_tag = trainer.create_tag(project.id, \"<Name of first tag>\")\n<Name-second-tag>_tag = trainer.create_tag(project.id, \"<Name of second tag>\")",
      "execution_count": null,
      "outputs": []
    },
    {
      "metadata": {},
      "cell_type": "markdown",
      "source": "### Upload and tag images\nNow, we'll add the sample images to the project. This code uploads each image with its corresponding tag. You can upload up to 64 images in a single batch."
    },
    {
      "metadata": {
        "trusted": true
      },
      "cell_type": "code",
      "source": "# This will give you the current directory\nimport os\ncwd = os. getcwd()\nprint(cwd)",
      "execution_count": null,
      "outputs": []
    },
    {
      "metadata": {
        "trusted": true
      },
      "cell_type": "code",
      "source": "# The data folder will be created if it doesn't exist yet.\nbase_image_url = \"/home/nbuser/library/data/\"  # Make sure the base image url redirects to your current directory. \n\nprint(\"Adding images...\")\n\nimage_list = []\n\nfor image_num in range(0, 25):\n    file_name = \"<name-of-first-category>_{}.png\".format(image_num)\n    with open(base_image_url + \"cat1/\" + file_name, \"rb\") as image_contents:\n        image_list.append(ImageFileCreateEntry(name=file_name, contents=image_contents.read(), tag_ids=[<Name-first-tag>_tag.id]))\n        \nfor image_num in range(0, 25):\n    file_name = \"<name-of-second-category>_{}.png\".format(image_num)\n    with open(base_image_url + \"cat2/\" + file_name, \"rb\") as image_contents:\n        image_list.append(ImageFileCreateEntry(name=file_name, contents=image_contents.read(), tag_ids=[<Name-second-tag>_tag.id]))\n\nupload_result = trainer.create_images_from_files(project.id, images=image_list)\nif not upload_result.is_batch_successful:\n    print(\"Image batch upload failed.\")\n    for image in upload_result.images:\n        print(\"Image status: \", image.status)\n    exit(-1)",
      "execution_count": null,
      "outputs": []
    },
    {
      "metadata": {
        "trusted": true
      },
      "cell_type": "markdown",
      "source": "End of Lab 3:\n\n- Your images should now be loaded into your Custom Vision environment. Go to customvision.ai to verify that your images have been upl"
    }
  ],
  "metadata": {
    "kernelspec": {
      "name": "python36",
      "display_name": "Python 3.6",
      "language": "python"
    },
    "language_info": {
      "mimetype": "text/x-python",
      "nbconvert_exporter": "python",
      "name": "python",
      "pygments_lexer": "ipython3",
      "version": "3.6.6",
      "file_extension": ".py",
      "codemirror_mode": {
        "version": 3,
        "name": "ipython"
      }
    }
  },
  "nbformat": 4,
  "nbformat_minor": 2
}