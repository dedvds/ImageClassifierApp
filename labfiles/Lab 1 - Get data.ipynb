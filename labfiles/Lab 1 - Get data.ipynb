{
  "cells": [
    {
      "metadata": {
        "collapsed": true
      },
      "cell_type": "markdown",
      "source": "## Prerequisites\n- You must have created a Bing Search resource in Azure and obtain the keys.\n- Make sure the notebook is running on Python 3.4 and higher.\n\n## Resources\n- [Quickstart: search for images with Bing Image Search SDK for Python](https://docs.microsoft.com/en-us/azure/cognitive-services/bing-image-search/image-sdk-python-quickstart)\n\n## Running the walkthrough\n### Create and initialize the application\nInstall the Azure Image Search SDK for Python:"
    },
    {
      "metadata": {
        "trusted": true,
        "scrolled": true
      },
      "cell_type": "code",
      "source": "!pip install azure-cognitiveservices-search-imagesearch",
      "execution_count": null,
      "outputs": []
    },
    {
      "metadata": {},
      "cell_type": "markdown",
      "source": "Import the following:"
    },
    {
      "metadata": {
        "trusted": true
      },
      "cell_type": "code",
      "source": "from azure.cognitiveservices.search.imagesearch import ImageSearchAPI\nfrom msrest.authentication import CognitiveServicesCredentials\nimport requests\nimport os",
      "execution_count": null,
      "outputs": []
    },
    {
      "metadata": {},
      "cell_type": "markdown",
      "source": "Create variables for your subscription key and search term."
    },
    {
      "metadata": {
        "trusted": true
      },
      "cell_type": "code",
      "source": "subscription_key = \"<Your-Subscription-Key>\"\nsearch_term_cat1 = \"<Search-Term-Category-1>\"\nsearch_term_cat2 = \"<Search-Term-Category-2>\"",
      "execution_count": null,
      "outputs": []
    },
    {
      "metadata": {},
      "cell_type": "markdown",
      "source": "### Create the image search client\nCreate an instance of `CognitiveServicesCredentials`, and use it to instantiate the client:"
    },
    {
      "metadata": {
        "trusted": true
      },
      "cell_type": "code",
      "source": "client = ImageSearchAPI(CognitiveServicesCredentials(subscription_key))",
      "execution_count": null,
      "outputs": []
    },
    {
      "metadata": {},
      "cell_type": "markdown",
      "source": "Send a search query to Bing Image Search API:"
    },
    {
      "metadata": {
        "trusted": true
      },
      "cell_type": "code",
      "source": "image_results_cat1 = client.images.search(query=search_term_cat1, count=25)\nimage_results_cat2 = client.images.search(query=search_term_cat2, count=25)",
      "execution_count": null,
      "outputs": []
    },
    {
      "metadata": {},
      "cell_type": "markdown",
      "source": "### Process and view the results\nParse the image results returned in the response.\n\nIf the response contains search results, store the first result and print out its details, such as a thumbnail URL, the original URL,along with the total number of returned images."
    },
    {
      "metadata": {},
      "cell_type": "markdown",
      "source": "Check the results for category 1:"
    },
    {
      "metadata": {
        "trusted": true
      },
      "cell_type": "code",
      "source": "if image_results_cat1.value:\n    first_image_result = image_results_cat1.value[0]\n    print(\"Total number of images returned: {}\".format(len(image_results_cat1.value)))\n    print(\"First image thumbnail url: {}\".format(\n        first_image_result.thumbnail_url))\n    print(\"First image content url: {}\".format(first_image_result.content_url))\nelse:\n    print(\"No image results returned!\")",
      "execution_count": null,
      "outputs": []
    },
    {
      "metadata": {},
      "cell_type": "markdown",
      "source": "Check the results for category 2:"
    },
    {
      "metadata": {
        "trusted": true
      },
      "cell_type": "code",
      "source": "if image_results_cat2.value:\n    first_image_result = image_results_cat2.value[0]\n    print(\"Total number of images returned: {}\".format(len(image_results_cat2.value)))\n    print(\"First image thumbnail url: {}\".format(\n        first_image_result.thumbnail_url))\n    print(\"First image content url: {}\".format(first_image_result.content_url))\nelse:\n    print(\"No image results returned!\")",
      "execution_count": null,
      "outputs": []
    },
    {
      "metadata": {},
      "cell_type": "markdown",
      "source": "### Save images to local directory\nThe images will be saved in the Azure notebooks environment in the folder \"data\". In this folder, make sure to have a separate folder for each category. "
    },
    {
      "metadata": {},
      "cell_type": "markdown",
      "source": "Createa a folder and save images for category 1:"
    },
    {
      "metadata": {
        "trusted": true
      },
      "cell_type": "code",
      "source": "for i in range(0,len(image_results_cat1.value)):\n    temp_img_url=((image_results_cat1.value[i]).content_url)\n    resp = requests.get(temp_img_url,allow_redirects=True)\n    filename=\"data/cat1/<Name-of-first-category>_\"+str(i)+\".png\"\n    os.makedirs(os.path.dirname(filename), exist_ok=True)\n    open(filename,\"wb\").write(resp.content) ",
      "execution_count": null,
      "outputs": []
    },
    {
      "metadata": {},
      "cell_type": "markdown",
      "source": "Category 2:"
    },
    {
      "metadata": {
        "trusted": true
      },
      "cell_type": "code",
      "source": "for i in range(0,len(image_results_cat2.value)):\n    temp_img_url=((image_results_cat2.value[i]).content_url)\n    resp = requests.get(temp_img_url,allow_redirects=True)\n    filename=\"data/cat2/<Name-of-second-category>_\"+str(i)+\".png\"\n    os.makedirs(os.path.dirname(filename), exist_ok=True)\n    open(filename,\"wb\").write(resp.content) ",
      "execution_count": null,
      "outputs": []
    },
    {
      "metadata": {
        "trusted": true
      },
      "cell_type": "markdown",
      "source": "End of Lab 1\n- You have collected 25 images per category, for two categories and saved them to the local directory. Check that the images exist in the data folder in Azure Notebooks."
    }
  ],
  "metadata": {
    "kernelspec": {
      "name": "python36",
      "display_name": "Python 3.6",
      "language": "python"
    },
    "language_info": {
      "mimetype": "text/x-python",
      "nbconvert_exporter": "python",
      "name": "python",
      "pygments_lexer": "ipython3",
      "version": "3.6.6",
      "file_extension": ".py",
      "codemirror_mode": {
        "version": 3,
        "name": "ipython"
      }
    }
  },
  "nbformat": 4,
  "nbformat_minor": 2
}